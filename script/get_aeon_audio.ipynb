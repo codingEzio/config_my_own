{
 "cells": [
  {
   "cell_type": "markdown",
   "metadata": {},
   "source": [
    "What does this do?\n",
    "- Get audio on aeon.co (provided by *curio.io*)\n",
    "\n",
    "What u need to install?\n",
    "- ```pip install bs4```\n",
    "\n",
    "Note\n",
    "- It<small>(soundcloud)</small> blocked countries like *Hong Kong*."
   ]
  },
  {
   "cell_type": "code",
   "execution_count": 11,
   "metadata": {},
   "outputs": [],
   "source": [
    "from urllib.request import urlopen\n",
    "from bs4 import BeautifulSoup"
   ]
  },
  {
   "cell_type": "code",
   "execution_count": 12,
   "metadata": {},
   "outputs": [],
   "source": [
    "# url = \"https://aeon.co/ideas/are-you-just-inside-your-skin-or-is-your-smartphone-part-of-you\"\n",
    "url = \"https://aeon.co/ideas/lolita-understood-that-some-sex-is-transactional-so-did-i\"\n",
    "\n",
    "html = urlopen(url).read().decode('utf-8')\n",
    "soup = BeautifulSoup(html, features=\"lxml\")"
   ]
  },
  {
   "cell_type": "code",
   "execution_count": 13,
   "metadata": {},
   "outputs": [
    {
     "name": "stdout",
     "output_type": "stream",
     "text": [
      "\n",
      "Lolita understood that some sex is transactional. So did I\n",
      "\n"
     ]
    }
   ],
   "source": [
    "print(soup.h1.string)"
   ]
  },
  {
   "cell_type": "code",
   "execution_count": 14,
   "metadata": {},
   "outputs": [
    {
     "data": {
      "text/plain": [
       "' \\nhttps://w.soundcloud.com/player/\\n?url=https%3A//api.soundcloud.com/tracks/416447598\\n%3Fsecret_token%3Ds-A3n4d&amp;auto_play=false&amp;hide_related=true&amp;show_comments=false\\n&amp;show_user=false&amp;show_reposts=false&amp;visual=false&amp;default_width=0\\n&amp;default_height=0&amp;show_artwork=false&amp;show_playcount=false '"
      ]
     },
     "execution_count": 14,
     "metadata": {},
     "output_type": "execute_result"
    }
   ],
   "source": [
    "''' \n",
    "https://w.soundcloud.com/player/\n",
    "?url=https%3A//api.soundcloud.com/tracks/416447598\n",
    "%3Fsecret_token%3Ds-A3n4d&amp;auto_play=false&amp;hide_related=true&amp;show_comments=false\n",
    "&amp;show_user=false&amp;show_reposts=false&amp;visual=false&amp;default_width=0\n",
    "&amp;default_height=0&amp;show_artwork=false&amp;show_playcount=false '''"
   ]
  },
  {
   "cell_type": "code",
   "execution_count": 15,
   "metadata": {},
   "outputs": [
    {
     "data": {
      "text/plain": [
       "'<iframe height=\"0\" src=\"https://www.googletagmanager.com/ns.html?id=GTM-MSXMBZ3\" style=\"display:none;visibility:hidden\" width=\"0\"></iframe>'"
      ]
     },
     "execution_count": 15,
     "metadata": {},
     "output_type": "execute_result"
    }
   ],
   "source": [
    "filter_words = [\n",
    "    '<iframe data-src=\"',\n",
    "    '\" id=\"sc-widget\" src=\"\"></iframe>'\n",
    "]\n",
    "\n",
    "audio_link = str(soup.iframe)\n",
    "\n",
    "for i in filter_words:\n",
    "    audio_link = audio_link.replace(i, '')\n",
    "\n",
    "audio_link"
   ]
  },
  {
   "cell_type": "code",
   "execution_count": 7,
   "metadata": {},
   "outputs": [
    {
     "data": {
      "text/plain": [
       "' audio_link AND download site (as mp3) '"
      ]
     },
     "execution_count": 7,
     "metadata": {},
     "output_type": "execute_result"
    },
    {
     "data": {
      "text/plain": [
       "True"
      ]
     },
     "execution_count": 7,
     "metadata": {},
     "output_type": "execute_result"
    }
   ],
   "source": [
    "import webbrowser\n",
    "\n",
    "''' audio_link AND download site (as mp3) '''\n",
    "\n",
    "webbrowser.open_new_tab(audio_link)\n",
    "# webbrowser.open_new_tab('https://9soundclouddownloader.com/download-sound-track')"
   ]
  },
  {
   "cell_type": "code",
   "execution_count": null,
   "metadata": {},
   "outputs": [],
   "source": []
  }
 ],
 "metadata": {
  "kernelspec": {
   "display_name": "Python 3",
   "language": "python",
   "name": "python3"
  },
  "language_info": {
   "codemirror_mode": {
    "name": "ipython",
    "version": 3
   },
   "file_extension": ".py",
   "mimetype": "text/x-python",
   "name": "python",
   "nbconvert_exporter": "python",
   "pygments_lexer": "ipython3",
   "version": "3.6.5"
  }
 },
 "nbformat": 4,
 "nbformat_minor": 2
}
